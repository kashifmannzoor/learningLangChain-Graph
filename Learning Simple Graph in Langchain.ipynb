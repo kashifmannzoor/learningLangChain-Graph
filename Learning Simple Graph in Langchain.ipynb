{
 "cells": [
  {
   "cell_type": "markdown",
   "id": "1defe703",
   "metadata": {},
   "source": [
    "# Learning Simple Graph in Langchain"
   ]
  },
  {
   "cell_type": "markdown",
   "id": "c0485fd1",
   "metadata": {},
   "source": [
    "LangGraph allows you to create stateful, multi-step applications by defining workflows as graphs. Each node in the graph represents a computation step (often a function or a LangChain Runnable), and edges define the flow of control and data between these nodes. The state is passed along the edges and can be updated by each node.\n",
    "\n",
    "Our Simple Example:\n",
    "\n",
    "We'll create a graph that:\n",
    "\n",
    "Takes a topic as input.\n",
    "- Generates a short introductory sentence about the topic.\n",
    "- Generates a concluding sentence about the topic.\n",
    "- Combines the introduction and conclusion.\n",
    "\n",
    "Core Concepts Illustrated:\n",
    "\n",
    "- State: The data that flows through the graph (topic, intro, conclusion, final text).\n",
    "- Nodes: Functions that perform specific tasks (generate_intro, generate_conclusion, combine_text).\n",
    "- Edges: Define the sequence of execution (Intro -> Conclusion -> Combine).\n",
    "- Graph: The overall workflow definition."
   ]
  },
  {
   "cell_type": "code",
   "execution_count": 4,
   "id": "79e525ab",
   "metadata": {
    "ExecuteTime": {
     "end_time": "2025-04-02T09:26:38.593688Z",
     "start_time": "2025-04-02T09:26:38.383037Z"
    }
   },
   "outputs": [
    {
     "name": "stdout",
     "output_type": "stream",
     "text": [
      "Python 3.12.9\r\n"
     ]
    }
   ],
   "source": [
    "!python --version"
   ]
  },
  {
   "cell_type": "code",
   "execution_count": 1,
   "id": "174278b8",
   "metadata": {
    "ExecuteTime": {
     "end_time": "2025-04-02T09:25:07.534410Z",
     "start_time": "2025-04-02T09:25:05.531199Z"
    }
   },
   "outputs": [
    {
     "name": "stdout",
     "output_type": "stream",
     "text": [
      "Note: you may need to restart the kernel to use updated packages.\n"
     ]
    }
   ],
   "source": [
    "%pip install --quiet -U langgraph"
   ]
  },
  {
   "cell_type": "code",
   "execution_count": 2,
   "id": "6008a464",
   "metadata": {
    "ExecuteTime": {
     "end_time": "2025-04-02T09:25:10.272412Z",
     "start_time": "2025-04-02T09:25:09.751209Z"
    }
   },
   "outputs": [],
   "source": [
    "import os\n",
    "\n",
    "from typing import TypedDict, Annotated, Sequence, Dict, Any\n",
    "from langgraph.graph import StateGraph, END\n"
   ]
  },
  {
   "cell_type": "code",
   "execution_count": 7,
   "id": "7f6a2775",
   "metadata": {
    "ExecuteTime": {
     "end_time": "2025-04-02T09:28:52.890489Z",
     "start_time": "2025-04-02T09:28:52.873728Z"
    }
   },
   "outputs": [],
   "source": [
    "import os\n",
    "from typing import TypedDict, Annotated, Sequence, Dict, Any, Optional\n",
    "from langgraph.graph import StateGraph, END\n",
    "\n",
    "# --- 1. Define the State ---\n",
    "# The state is the data structure that flows through the graph.\n",
    "# We use TypedDict for clarity and type safety.\n",
    "\n",
    "class GraphState(TypedDict):\n",
    "    \"\"\"\n",
    "    Represents the state of our graph.\n",
    "\n",
    "    Attributes:\n",
    "        topic: The input topic for generation.\n",
    "        introduction: The generated introductory sentence.\n",
    "        conclusion: The generated concluding sentence.\n",
    "        final_text: The combined introduction and conclusion.\n",
    "    \"\"\"\n",
    "    topic: str\n",
    "    introduction: Optional[str]  # Use Optional[str] to indicate it might not be set initially\n",
    "    conclusion: Optional[str]\n",
    "    final_text: Optional[str]\n"
   ]
  },
  {
   "cell_type": "code",
   "execution_count": 8,
   "id": "d0facf37",
   "metadata": {
    "ExecuteTime": {
     "end_time": "2025-04-02T09:28:57.905539Z",
     "start_time": "2025-04-02T09:28:57.880872Z"
    }
   },
   "outputs": [],
   "source": [
    "# --- 2. Define the Nodes ---\n",
    "# Nodes are functions that perform actions and modify the state.\n",
    "# They take the current state as input and return a dictionary\n",
    "# containing the *updates* to the state.\n",
    "\n",
    "def generate_intro(state: GraphState) -> Dict[str, Any]:\n",
    "    \"\"\"Generates an introductory sentence based on the topic.\"\"\"\n",
    "    print(\"--- Node: Generating Introduction ---\")\n",
    "    topic = state['topic']\n",
    "    # In a real app, you might use an LLM here.\n",
    "    intro_text = f\"Let's talk about {topic}.\"\n",
    "    print(f\"    Generated: {intro_text}\")\n",
    "    return {\"introduction\": intro_text} # Return the state update\n",
    "\n",
    "def generate_conclusion(state: GraphState) -> Dict[str, Any]:\n",
    "    \"\"\"Generates a concluding sentence based on the topic.\"\"\"\n",
    "    print(\"--- Node: Generating Conclusion ---\")\n",
    "    topic = state['topic']\n",
    "    # In a real app, you might use an LLM here.\n",
    "    concl_text = f\"In summary, {topic} is an interesting subject.\"\n",
    "    print(f\"    Generated: {concl_text}\")\n",
    "    return {\"conclusion\": concl_text} # Return the state update\n",
    "\n",
    "def combine_text(state: GraphState) -> Dict[str, Any]:\n",
    "    \"\"\"Combines the introduction and conclusion.\"\"\"\n",
    "    print(\"--- Node: Combining Text ---\")\n",
    "    intro = state.get('introduction', '') # Safely get values\n",
    "    concl = state.get('conclusion', '')\n",
    "    combined = f\"{intro}\\n{concl}\"\n",
    "    print(f\"    Combined:\\n{combined}\")\n",
    "    return {\"final_text\": combined} # Return the state update"
   ]
  },
  {
   "cell_type": "code",
   "execution_count": 9,
   "id": "0460eeb4",
   "metadata": {
    "ExecuteTime": {
     "end_time": "2025-04-02T09:29:00.705871Z",
     "start_time": "2025-04-02T09:29:00.684625Z"
    }
   },
   "outputs": [
    {
     "data": {
      "text/plain": [
       "<langgraph.graph.state.StateGraph at 0x7fd0f9ec4970>"
      ]
     },
     "execution_count": 9,
     "metadata": {},
     "output_type": "execute_result"
    }
   ],
   "source": [
    "# --- 3. Define the Graph ---\n",
    "# Instantiate StateGraph with the state definition.\n",
    "\n",
    "workflow = StateGraph(GraphState)\n",
    "\n",
    "# Add nodes to the graph. Give each node a unique name.\n",
    "workflow.add_node(\"intro_node\", generate_intro)\n",
    "workflow.add_node(\"conclusion_node\", generate_conclusion)\n",
    "workflow.add_node(\"combine_node\", combine_text)\n",
    "\n",
    "# --- 4. Define the Edges ---\n",
    "# Edges define the flow of control.\n",
    "\n",
    "# Set the entry point - the first node to execute.\n",
    "workflow.set_entry_point(\"intro_node\")\n",
    "\n",
    "# Connect nodes sequentially.\n",
    "workflow.add_edge(\"intro_node\", \"conclusion_node\")\n",
    "workflow.add_edge(\"conclusion_node\", \"combine_node\")\n",
    "\n",
    "# Define the end point. The special 'END' marker signifies the graph finishes\n",
    "# after this node.\n",
    "workflow.add_edge(\"combine_node\", END)\n"
   ]
  },
  {
   "cell_type": "code",
   "execution_count": 10,
   "id": "e68b9383",
   "metadata": {
    "ExecuteTime": {
     "end_time": "2025-04-02T09:29:05.574253Z",
     "start_time": "2025-04-02T09:29:05.543552Z"
    }
   },
   "outputs": [
    {
     "name": "stdout",
     "output_type": "stream",
     "text": [
      "\n",
      "--- Running Graph with input: {'topic': 'LangGraph Basics'} ---\n",
      "--- Node: Generating Introduction ---\n",
      "    Generated: Let's talk about LangGraph Basics.\n",
      "--- Node: Generating Conclusion ---\n",
      "    Generated: In summary, LangGraph Basics is an interesting subject.\n",
      "--- Node: Combining Text ---\n",
      "    Combined:\n",
      "Let's talk about LangGraph Basics.\n",
      "In summary, LangGraph Basics is an interesting subject.\n",
      "\n",
      "--- Graph Execution Finished ---\n",
      "\n",
      "--- Final State ---\n",
      "{\n",
      "  \"topic\": \"LangGraph Basics\",\n",
      "  \"introduction\": \"Let's talk about LangGraph Basics.\",\n",
      "  \"conclusion\": \"In summary, LangGraph Basics is an interesting subject.\",\n",
      "  \"final_text\": \"Let's talk about LangGraph Basics.\\nIn summary, LangGraph Basics is an interesting subject.\"\n",
      "}\n",
      "\n",
      "--- Final Combined Text ---\n",
      "Let's talk about LangGraph Basics.\n",
      "In summary, LangGraph Basics is an interesting subject.\n"
     ]
    }
   ],
   "source": [
    "# --- 5. Compile the Graph ---\n",
    "# Compile the graph into a runnable application.\n",
    "\n",
    "app = workflow.compile()\n",
    "\n",
    "\n",
    "# --- 6. Run the Graph ---\n",
    "# Invoke the compiled graph with initial input.\n",
    "# The input should match the structure needed by the entry node(s).\n",
    "\n",
    "initial_input = {\"topic\": \"LangGraph Basics\"}\n",
    "print(f\"\\n--- Running Graph with input: {initial_input} ---\")\n",
    "\n",
    "# 'invoke' runs the graph until it reaches the END state\n",
    "final_state = app.invoke(initial_input)\n",
    "\n",
    "print(\"\\n--- Graph Execution Finished ---\")\n",
    "print(\"\\n--- Final State ---\")\n",
    "# Pretty print the final state dictionary\n",
    "import json\n",
    "print(json.dumps(final_state, indent=2))\n",
    "\n",
    "print(\"\\n--- Final Combined Text ---\")\n",
    "print(final_state.get(\"final_text\")) # Access the final output from the state."
   ]
  },
  {
   "cell_type": "markdown",
   "id": "dda0dc49",
   "metadata": {},
   "source": [
    "1 - Define the State (GraphState): We use TypedDict to define the structure of data that will be passed between nodes. This makes it clear what keys (topic, introduction, etc.) are expected at different stages. Initially, introduction, conclusion, and final_text can be None.\n",
    "\n",
    "2 - Define the Nodes (generate_intro, generate_conclusion, combine_text):\n",
    "\n",
    "Each node is a Python function that accepts the current state dictionary as its argument.\n",
    "\n",
    "Inside the function, it performs its task (here, generating simple strings, but could involve LLM calls, API requests, etc.).\n",
    "\n",
    "Crucially, each node returns a dictionary containing only the changes or updates it wants to make to the state. \n",
    "\n",
    "LangGraph automatically merges these updates into the main state before passing it to the next node. For example, generate_intro returns {\"introduction\": intro_text}.\n",
    "\n",
    "\n",
    "3 - Define the Graph (workflow = StateGraph(GraphState)): We create an instance of StateGraph, telling it to use our GraphState definition to manage the data flow.\n",
    "\n",
    "4 - Add Nodes (workflow.add_node(...)): We register our node functions with the graph, giving each a unique string name (\"intro_node\", \"conclusion_node\", \"combine_node\"). This name is used when defining edges.\n",
    "\n",
    "5 - Define the Edges (workflow.set_entry_point(...), workflow.add_edge(...)):\n",
    "\n",
    "set_entry_point(\"intro_node\"): This tells LangGraph where to start the execution. The input provided to app.invoke() will be passed to this node first.\n",
    "\n",
    "add_edge(\"intro_node\", \"conclusion_node\"): This creates a directed link. After intro_node finishes, control passes to conclusion_node. The updated state (including the introduction) is passed along.\n",
    "\n",
    "add_edge(\"conclusion_node\", \"combine_node\"): Similarly, connects the conclusion generator to the combiner.\n",
    "\n",
    "add_edge(\"combine_node\", END): This connects the final node combine_node to the special END marker. When the graph reaches END, execution stops, and the final state is returned.\n",
    "\n",
    "6 - Compile the Graph (app = workflow.compile()): This step takes the graph definition (nodes and edges) and creates an executable LangChain Runnable object (app). This object knows how to traverse the graph based on the defined structure.\n",
    "\n",
    "7 - Run the Graph (final_state = app.invoke(initial_input)):\n",
    "\n",
    "We call the invoke() method on the compiled app.\n",
    "\n",
    "We provide the initial input as a dictionary ({\"topic\": \"LangGraph Basics\"}). This dictionary populates the initial state.\n",
    "\n",
    "LangGraph executes the nodes in the defined order (intro_node -> conclusion_node -> combine_node), updating the state at each step.\n",
    "\n",
    "When the END state is reached, invoke() returns the complete final state dictionary.\n",
    "\n",
    "We then print the final_state and extract the desired output (final_text).\n",
    "\n",
    "This example demonstrates the fundamental workflow of defining state, nodes, edges, compiling, and running a simple sequential graph in LangGraph. You can build much more complex graphs with conditional edges (deciding which node to go to next based on the state), cycles, and integration with various LangChain components."
   ]
  },
  {
   "cell_type": "markdown",
   "id": "586330ae",
   "metadata": {},
   "source": [
    "Lets visualize it;\n",
    "\n",
    "It will open a window showing a simple diagram of your LangGraph workflow. \n",
    "\n",
    "You'll see the nodes as circles labeled with their names, and arrows indicating the flow of execution from intro_node to conclusion_node, then to combine_node, and finally to END. \n",
    "\n",
    "This provides a clear visual representation of the sequential structure of your graph."
   ]
  },
  {
   "cell_type": "code",
   "execution_count": 11,
   "id": "983f8213",
   "metadata": {
    "ExecuteTime": {
     "end_time": "2025-04-02T09:34:32.903830Z",
     "start_time": "2025-04-02T09:34:29.703073Z"
    }
   },
   "outputs": [
    {
     "data": {
      "image/png": "[encoded data removed]",
      "text/plain": [
       "<Figure size 640x480 with 1 Axes>"
      ]
     },
     "metadata": {},
     "output_type": "display_data"
    }
   ],
   "source": [
    "import networkx as nx\n",
    "import matplotlib.pyplot as plt\n",
    "\n",
    "# Define the nodes\n",
    "nodes = [\"intro_node\", \"conclusion_node\", \"combine_node\", \"END\"]\n",
    "\n",
    "# Define the edges\n",
    "edges = [\n",
    "    (\"intro_node\", \"conclusion_node\"),\n",
    "    (\"conclusion_node\", \"combine_node\"),\n",
    "    (\"combine_node\", \"END\"),\n",
    "]\n",
    "\n",
    "# Create a directed graph\n",
    "graph = nx.DiGraph()\n",
    "graph.add_nodes_from(nodes)\n",
    "graph.add_edges_from(edges)\n",
    "\n",
    "# Define positions for the nodes (for better layout)\n",
    "pos = {\n",
    "    \"intro_node\": (0, 1),\n",
    "    \"conclusion_node\": (1, 1),\n",
    "    \"combine_node\": (2, 1),\n",
    "    \"END\": (3, 1),\n",
    "}\n",
    "\n",
    "# Draw the graph\n",
    "nx.draw(\n",
    "    graph,\n",
    "    pos,\n",
    "    with_labels=True,\n",
    "    node_size=3000,\n",
    "    node_color=\"lightblue\",\n",
    "    font_size=10,\n",
    "    font_weight=\"bold\",\n",
    "    arrowsize=20,\n",
    ")\n",
    "\n",
    "# Add a title\n",
    "plt.title(\"LangGraph Workflow\")\n",
    "\n",
    "# Show the plot\n",
    "plt.show()"
   ]
  }
 ],
 "metadata": {
  "kernelspec": {
   "display_name": "Python 3 (ipykernel)",
   "language": "python",
   "name": "python3"
  },
  "language_info": {
   "codemirror_mode": {
    "name": "ipython",
    "version": 3
   },
   "file_extension": ".py",
   "mimetype": "text/x-python",
   "name": "python",
   "nbconvert_exporter": "python",
   "pygments_lexer": "ipython3",
   "version": "3.9.16"
  }
 },
 "nbformat": 4,
 "nbformat_minor": 5
}
