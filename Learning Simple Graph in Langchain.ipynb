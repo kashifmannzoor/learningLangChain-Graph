{
 "cells": [
  {
   "cell_type": "markdown",
   "id": "1defe703",
   "metadata": {},
   "source": [
    "# Learning Simple Graph in Langchain"
   ]
  },
  {
   "cell_type": "markdown",
   "id": "c0485fd1",
   "metadata": {},
   "source": [
    "LangGraph allows you to create stateful, multi-step applications by defining workflows as graphs. Each node in the graph represents a computation step (often a function or a LangChain Runnable), and edges define the flow of control and data between these nodes. The state is passed along the edges and can be updated by each node.\n",
    "\n",
    "Our Simple Example:\n",
    "\n",
    "We'll create a graph that:\n",
    "\n",
    "Takes a topic as input.\n",
    "- Generates a short introductory sentence about the topic.\n",
    "- Generates a concluding sentence about the topic.\n",
    "- Combines the introduction and conclusion.\n",
    "\n",
    "Core Concepts Illustrated:\n",
    "\n",
    "- State: The data that flows through the graph (topic, intro, conclusion, final text).\n",
    "- Nodes: Functions that perform specific tasks (generate_intro, generate_conclusion, combine_text).\n",
    "- Edges: Define the sequence of execution (Intro -> Conclusion -> Combine).\n",
    "- Graph: The overall workflow definition."
   ]
  },
  {
   "cell_type": "code",
   "execution_count": 4,
   "id": "79e525ab",
   "metadata": {
    "ExecuteTime": {
     "end_time": "2025-04-02T09:26:38.593688Z",
     "start_time": "2025-04-02T09:26:38.383037Z"
    }
   },
   "outputs": [
    {
     "name": "stdout",
     "output_type": "stream",
     "text": [
      "Python 3.12.9\r\n"
     ]
    }
   ],
   "source": [
    "!python --version"
   ]
  },
  {
   "cell_type": "code",
   "execution_count": 1,
   "id": "174278b8",
   "metadata": {
    "ExecuteTime": {
     "end_time": "2025-04-02T09:25:07.534410Z",
     "start_time": "2025-04-02T09:25:05.531199Z"
    }
   },
   "outputs": [
    {
     "name": "stdout",
     "output_type": "stream",
     "text": [
      "Note: you may need to restart the kernel to use updated packages.\n"
     ]
    }
   ],
   "source": [
    "%pip install --quiet -U langgraph"
   ]
  },
  {
   "cell_type": "code",
   "execution_count": 2,
   "id": "6008a464",
   "metadata": {
    "ExecuteTime": {
     "end_time": "2025-04-02T09:25:10.272412Z",
     "start_time": "2025-04-02T09:25:09.751209Z"
    }
   },
   "outputs": [],
   "source": [
    "import os\n",
    "\n",
    "from typing import TypedDict, Annotated, Sequence, Dict, Any\n",
    "from langgraph.graph import StateGraph, END\n"
   ]
  },
  {
   "cell_type": "code",
   "execution_count": 7,
   "id": "7f6a2775",
   "metadata": {
    "ExecuteTime": {
     "end_time": "2025-04-02T09:28:52.890489Z",
     "start_time": "2025-04-02T09:28:52.873728Z"
    }
   },
   "outputs": [],
   "source": [
    "import os\n",
    "from typing import TypedDict, Annotated, Sequence, Dict, Any, Optional\n",
    "from langgraph.graph import StateGraph, END\n",
    "\n",
    "# --- 1. Define the State ---\n",
    "# The state is the data structure that flows through the graph.\n",
    "# We use TypedDict for clarity and type safety.\n",
    "\n",
    "class GraphState(TypedDict):\n",
    "    \"\"\"\n",
    "    Represents the state of our graph.\n",
    "\n",
    "    Attributes:\n",
    "        topic: The input topic for generation.\n",
    "        introduction: The generated introductory sentence.\n",
    "        conclusion: The generated concluding sentence.\n",
    "        final_text: The combined introduction and conclusion.\n",
    "    \"\"\"\n",
    "    topic: str\n",
    "    introduction: Optional[str]  # Use Optional[str] to indicate it might not be set initially\n",
    "    conclusion: Optional[str]\n",
    "    final_text: Optional[str]\n"
   ]
  },
  {
   "cell_type": "code",
   "execution_count": 8,
   "id": "af22f155",
   "metadata": {
    "ExecuteTime": {
     "end_time": "2025-04-02T09:28:57.905539Z",
     "start_time": "2025-04-02T09:28:57.880872Z"
    }
   },
   "outputs": [],
   "source": [
    "# --- 2. Define the Nodes ---\n",
    "# Nodes are functions that perform actions and modify the state.\n",
    "# They take the current state as input and return a dictionary\n",
    "# containing the *updates* to the state.\n",
    "\n",
    "def generate_intro(state: GraphState) -> Dict[str, Any]:\n",
    "    \"\"\"Generates an introductory sentence based on the topic.\"\"\"\n",
    "    print(\"--- Node: Generating Introduction ---\")\n",
    "    topic = state['topic']\n",
    "    # In a real app, you might use an LLM here.\n",
    "    intro_text = f\"Let's talk about {topic}.\"\n",
    "    print(f\"    Generated: {intro_text}\")\n",
    "    return {\"introduction\": intro_text} # Return the state update\n",
    "\n",
    "def generate_conclusion(state: GraphState) -> Dict[str, Any]:\n",
    "    \"\"\"Generates a concluding sentence based on the topic.\"\"\"\n",
    "    print(\"--- Node: Generating Conclusion ---\")\n",
    "    topic = state['topic']\n",
    "    # In a real app, you might use an LLM here.\n",
    "    concl_text = f\"In summary, {topic} is an interesting subject.\"\n",
    "    print(f\"    Generated: {concl_text}\")\n",
    "    return {\"conclusion\": concl_text} # Return the state update\n",
    "\n",
    "def combine_text(state: GraphState) -> Dict[str, Any]:\n",
    "    \"\"\"Combines the introduction and conclusion.\"\"\"\n",
    "    print(\"--- Node: Combining Text ---\")\n",
    "    intro = state.get('introduction', '') # Safely get values\n",
    "    concl = state.get('conclusion', '')\n",
    "    combined = f\"{intro}\\n{concl}\"\n",
    "    print(f\"    Combined:\\n{combined}\")\n",
    "    return {\"final_text\": combined} # Return the state update"
   ]
  },
  {
   "cell_type": "code",
   "execution_count": 9,
   "id": "38db6cdf",
   "metadata": {
    "ExecuteTime": {
     "end_time": "2025-04-02T09:29:00.705871Z",
     "start_time": "2025-04-02T09:29:00.684625Z"
    }
   },
   "outputs": [
    {
     "data": {
      "text/plain": [
       "<langgraph.graph.state.StateGraph at 0x7fd0f9ec4970>"
      ]
     },
     "execution_count": 9,
     "metadata": {},
     "output_type": "execute_result"
    }
   ],
   "source": [
    "# --- 3. Define the Graph ---\n",
    "# Instantiate StateGraph with the state definition.\n",
    "\n",
    "workflow = StateGraph(GraphState)\n",
    "\n",
    "# Add nodes to the graph. Give each node a unique name.\n",
    "workflow.add_node(\"intro_node\", generate_intro)\n",
    "workflow.add_node(\"conclusion_node\", generate_conclusion)\n",
    "workflow.add_node(\"combine_node\", combine_text)\n",
    "\n",
    "# --- 4. Define the Edges ---\n",
    "# Edges define the flow of control.\n",
    "\n",
    "# Set the entry point - the first node to execute.\n",
    "workflow.set_entry_point(\"intro_node\")\n",
    "\n",
    "# Connect nodes sequentially.\n",
    "workflow.add_edge(\"intro_node\", \"conclusion_node\")\n",
    "workflow.add_edge(\"conclusion_node\", \"combine_node\")\n",
    "\n",
    "# Define the end point. The special 'END' marker signifies the graph finishes\n",
    "# after this node.\n",
    "workflow.add_edge(\"combine_node\", END)\n"
   ]
  },
  {
   "cell_type": "code",
   "execution_count": 10,
   "id": "b358ed99",
   "metadata": {
    "ExecuteTime": {
     "end_time": "2025-04-02T09:29:05.574253Z",
     "start_time": "2025-04-02T09:29:05.543552Z"
    }
   },
   "outputs": [
    {
     "name": "stdout",
     "output_type": "stream",
     "text": [
      "\n",
      "--- Running Graph with input: {'topic': 'LangGraph Basics'} ---\n",
      "--- Node: Generating Introduction ---\n",
      "    Generated: Let's talk about LangGraph Basics.\n",
      "--- Node: Generating Conclusion ---\n",
      "    Generated: In summary, LangGraph Basics is an interesting subject.\n",
      "--- Node: Combining Text ---\n",
      "    Combined:\n",
      "Let's talk about LangGraph Basics.\n",
      "In summary, LangGraph Basics is an interesting subject.\n",
      "\n",
      "--- Graph Execution Finished ---\n",
      "\n",
      "--- Final State ---\n",
      "{\n",
      "  \"topic\": \"LangGraph Basics\",\n",
      "  \"introduction\": \"Let's talk about LangGraph Basics.\",\n",
      "  \"conclusion\": \"In summary, LangGraph Basics is an interesting subject.\",\n",
      "  \"final_text\": \"Let's talk about LangGraph Basics.\\nIn summary, LangGraph Basics is an interesting subject.\"\n",
      "}\n",
      "\n",
      "--- Final Combined Text ---\n",
      "Let's talk about LangGraph Basics.\n",
      "In summary, LangGraph Basics is an interesting subject.\n"
     ]
    }
   ],
   "source": [
    "# --- 5. Compile the Graph ---\n",
    "# Compile the graph into a runnable application.\n",
    "\n",
    "app = workflow.compile()\n",
    "\n",
    "\n",
    "# --- 6. Run the Graph ---\n",
    "# Invoke the compiled graph with initial input.\n",
    "# The input should match the structure needed by the entry node(s).\n",
    "\n",
    "initial_input = {\"topic\": \"LangGraph Basics\"}\n",
    "print(f\"\\n--- Running Graph with input: {initial_input} ---\")\n",
    "\n",
    "# 'invoke' runs the graph until it reaches the END state\n",
    "final_state = app.invoke(initial_input)\n",
    "\n",
    "print(\"\\n--- Graph Execution Finished ---\")\n",
    "print(\"\\n--- Final State ---\")\n",
    "# Pretty print the final state dictionary\n",
    "import json\n",
    "print(json.dumps(final_state, indent=2))\n",
    "\n",
    "print(\"\\n--- Final Combined Text ---\")\n",
    "print(final_state.get(\"final_text\")) # Access the final output from the state."
   ]
  },
  {
   "cell_type": "markdown",
   "id": "dda0dc49",
   "metadata": {},
   "source": [
    "1 - Define the State (GraphState): We use TypedDict to define the structure of data that will be passed between nodes. This makes it clear what keys (topic, introduction, etc.) are expected at different stages. Initially, introduction, conclusion, and final_text can be None.\n",
    "\n",
    "2 - Define the Nodes (generate_intro, generate_conclusion, combine_text):\n",
    "\n",
    "Each node is a Python function that accepts the current state dictionary as its argument.\n",
    "\n",
    "Inside the function, it performs its task (here, generating simple strings, but could involve LLM calls, API requests, etc.).\n",
    "\n",
    "Crucially, each node returns a dictionary containing only the changes or updates it wants to make to the state. \n",
    "\n",
    "LangGraph automatically merges these updates into the main state before passing it to the next node. For example, generate_intro returns {\"introduction\": intro_text}.\n",
    "\n",
    "\n",
    "3 - Define the Graph (workflow = StateGraph(GraphState)): We create an instance of StateGraph, telling it to use our GraphState definition to manage the data flow.\n",
    "\n",
    "4 - Add Nodes (workflow.add_node(...)): We register our node functions with the graph, giving each a unique string name (\"intro_node\", \"conclusion_node\", \"combine_node\"). This name is used when defining edges.\n",
    "\n",
    "5 - Define the Edges (workflow.set_entry_point(...), workflow.add_edge(...)):\n",
    "\n",
    "set_entry_point(\"intro_node\"): This tells LangGraph where to start the execution. The input provided to app.invoke() will be passed to this node first.\n",
    "\n",
    "add_edge(\"intro_node\", \"conclusion_node\"): This creates a directed link. After intro_node finishes, control passes to conclusion_node. The updated state (including the introduction) is passed along.\n",
    "\n",
    "add_edge(\"conclusion_node\", \"combine_node\"): Similarly, connects the conclusion generator to the combiner.\n",
    "\n",
    "add_edge(\"combine_node\", END): This connects the final node combine_node to the special END marker. When the graph reaches END, execution stops, and the final state is returned.\n",
    "\n",
    "6 - Compile the Graph (app = workflow.compile()): This step takes the graph definition (nodes and edges) and creates an executable LangChain Runnable object (app). This object knows how to traverse the graph based on the defined structure.\n",
    "\n",
    "7 - Run the Graph (final_state = app.invoke(initial_input)):\n",
    "\n",
    "We call the invoke() method on the compiled app.\n",
    "\n",
    "We provide the initial input as a dictionary ({\"topic\": \"LangGraph Basics\"}). This dictionary populates the initial state.\n",
    "\n",
    "LangGraph executes the nodes in the defined order (intro_node -> conclusion_node -> combine_node), updating the state at each step.\n",
    "\n",
    "When the END state is reached, invoke() returns the complete final state dictionary.\n",
    "\n",
    "We then print the final_state and extract the desired output (final_text).\n",
    "\n",
    "This example demonstrates the fundamental workflow of defining state, nodes, edges, compiling, and running a simple sequential graph in LangGraph. You can build much more complex graphs with conditional edges (deciding which node to go to next based on the state), cycles, and integration with various LangChain components."
   ]
  },
  {
   "cell_type": "markdown",
   "id": "70e8c6db",
   "metadata": {},
   "source": [
    "# Lets visualize it;\n",
    "\n",
    "It will open a window showing a simple diagram of your LangGraph workflow. \n",
    "\n",
    "You'll see the nodes as circles labeled with their names, and arrows indicating the flow of execution from intro_node to conclusion_node, then to combine_node, and finally to END. \n",
    "\n",
    "This provides a clear visual representation of the sequential structure of your graph."
   ]
  },
  {
   "cell_type": "code",
   "execution_count": 11,
   "id": "a8540bbf",
   "metadata": {
    "ExecuteTime": {
     "end_time": "2025-04-02T09:34:32.903830Z",
     "start_time": "2025-04-02T09:34:29.703073Z"
    }
   },
   "outputs": [
    {
     "data": {
      "image/png": "[encoded data removed]",
      "text/plain": [
       "<Figure size 640x480 with 1 Axes>"
      ]
     },
     "metadata": {},
     "output_type": "display_data"
    }
   ],
   "source": [
    "import networkx as nx\n",
    "import matplotlib.pyplot as plt\n",
    "\n",
    "# Define the nodes\n",
    "nodes = [\"intro_node\", \"conclusion_node\", \"combine_node\", \"END\"]\n",
    "\n",
    "# Define the edges\n",
    "edges = [\n",
    "    (\"intro_node\", \"conclusion_node\"),\n",
    "    (\"conclusion_node\", \"combine_node\"),\n",
    "    (\"combine_node\", \"END\"),\n",
    "]\n",
    "\n",
    "# Create a directed graph\n",
    "graph = nx.DiGraph()\n",
    "graph.add_nodes_from(nodes)\n",
    "graph.add_edges_from(edges)\n",
    "\n",
    "# Define positions for the nodes (for better layout)\n",
    "pos = {\n",
    "    \"intro_node\": (0, 1),\n",
    "    \"conclusion_node\": (1, 1),\n",
    "    \"combine_node\": (2, 1),\n",
    "    \"END\": (3, 1),\n",
    "}\n",
    "\n",
    "# Draw the graph\n",
    "nx.draw(\n",
    "    graph,\n",
    "    pos,\n",
    "    with_labels=True,\n",
    "    node_size=3000,\n",
    "    node_color=\"lightblue\",\n",
    "    font_size=10,\n",
    "    font_weight=\"bold\",\n",
    "    arrowsize=20,\n",
    ")\n",
    "\n",
    "# Add a title\n",
    "plt.title(\"LangGraph Workflow\")\n",
    "\n",
    "# Show the plot\n",
    "plt.show()"
   ]
  },
  {
   "cell_type": "code",
   "execution_count": 12,
   "id": "9cf8c41f",
   "metadata": {
    "ExecuteTime": {
     "end_time": "2025-04-02T09:43:23.533061Z",
     "start_time": "2025-04-02T09:43:23.368129Z"
    }
   },
   "outputs": [
    {
     "data": {
      "image/png": "[encoded data removed]",
      "text/plain": [
       "<Figure size 1000x800 with 1 Axes>"
      ]
     },
     "metadata": {},
     "output_type": "display_data"
    },
    {
     "name": "stdout",
     "output_type": "stream",
     "text": [
      "\n",
      "--- Simulating Graph Run ---\n",
      "Initial State:\n",
      "Topic: A very long and interesting topic\n",
      "Intro: None\n",
      "Conclusion: None\n",
      "Final: None\n",
      "Skip Conclusion: False\n",
      "\n",
      "--- Node: Generating Introduction ---\n",
      "    Generated: Let's begin discussing A very long and interesting topic.\n",
      "\n",
      "State after intro_node:\n",
      "Topic: A very long and interesting topic\n",
      "Intro: Let's begin discussing A very long and interesting topic.\n",
      "Conclusion: None\n",
      "Final: None\n",
      "Skip Conclusion: False\n",
      "\n",
      "--- Node: Checking Skip Condition ---\n",
      "    Topic is long enough, proceeding with conclusion.\n",
      "\n",
      "Skip Decision: continue\n",
      "\n",
      "--- Node: Generating Conclusion ---\n",
      "    Generated: In conclusion, A very long and interesting topic is quite noteworthy.\n",
      "\n",
      "State after conclusion_node:\n",
      "Topic: A very long and interesting topic\n",
      "Intro: Let's begin discussing A very long and interesting topic.\n",
      "Conclusion: In conclusion, A very long and interesting topic is quite noteworthy.\n",
      "Final: None\n",
      "Skip Conclusion: False\n",
      "\n",
      "--- Node: Combining Text ---\n",
      "    Combined:\n",
      "Let's begin discussing A very long and interesting topic.\n",
      "In conclusion, A very long and interesting topic is quite noteworthy.\n",
      "\n",
      "Final State after combine_node:\n",
      "Topic: A very long and interesting topic\n",
      "Intro: Let's begin discussing A very long and interesting topic.\n",
      "Conclusion: In conclusion, A very long and interesting topic is quite noteworthy.\n",
      "Final: Let's begin discussing A very long and interesting topic.\n",
      "In conclusion, A very long and interesting topic is quite noteworthy.\n",
      "Skip Conclusion: False\n",
      "\n",
      "--- Node: Final Output ---\n",
      "    Final Text:\n",
      "Let's begin discussing A very long and interesting topic.\n",
      "In conclusion, A very long and interesting topic is quite noteworthy.\n"
     ]
    },
    {
     "data": {
      "text/plain": [
       "<__main__.GraphState at 0x7fd0fa3c21c0>"
      ]
     },
     "execution_count": 12,
     "metadata": {},
     "output_type": "execute_result"
    }
   ],
   "source": [
    "import networkx as nx\n",
    "import matplotlib.pyplot as plt\n",
    "\n",
    "# --- 1. Define the Graph State (for visualization purposes) ---\n",
    "class GraphState:\n",
    "    def __init__(self, topic=None, introduction=None, conclusion=None, final_text=None, should_skip_conclusion=False):\n",
    "        self.topic = topic\n",
    "        self.introduction = introduction\n",
    "        self.conclusion = conclusion\n",
    "        self.final_text = final_text\n",
    "        self.should_skip_conclusion = should_skip_conclusion\n",
    "\n",
    "    def __str__(self):\n",
    "        return f\"Topic: {self.topic}\\nIntro: {self.introduction}\\nConclusion: {self.conclusion}\\nFinal: {self.final_text}\\nSkip Conclusion: {self.should_skip_conclusion}\"\n",
    "\n",
    "# --- 2. Define Dummy Nodes (representing the logic) ---\n",
    "def generate_intro(state: GraphState) -> GraphState:\n",
    "    print(\"--- Node: Generating Introduction ---\")\n",
    "    state.introduction = f\"Let's begin discussing {state.topic}.\"\n",
    "    print(f\"    Generated: {state.introduction}\")\n",
    "    return state\n",
    "\n",
    "def check_skip_condition(state: GraphState) -> str:\n",
    "    print(\"--- Node: Checking Skip Condition ---\")\n",
    "    if len(state.topic) < 10:\n",
    "        state.should_skip_conclusion = True\n",
    "        print(\"    Topic is short, skipping conclusion.\")\n",
    "        return \"skip\"\n",
    "    else:\n",
    "        state.should_skip_conclusion = False\n",
    "        print(\"    Topic is long enough, proceeding with conclusion.\")\n",
    "        return \"continue\"\n",
    "\n",
    "def generate_conclusion(state: GraphState) -> GraphState:\n",
    "    print(\"--- Node: Generating Conclusion ---\")\n",
    "    if not state.should_skip_conclusion:\n",
    "        state.conclusion = f\"In conclusion, {state.topic} is quite noteworthy.\"\n",
    "        print(f\"    Generated: {state.conclusion}\")\n",
    "    else:\n",
    "        print(\"    Conclusion was skipped.\")\n",
    "    return state\n",
    "\n",
    "def combine_text(state: GraphState) -> GraphState:\n",
    "    print(\"--- Node: Combining Text ---\")\n",
    "    state.final_text = f\"{state.introduction}\\n{state.conclusion if state.conclusion else ''}\"\n",
    "    print(f\"    Combined:\\n{state.final_text}\")\n",
    "    return state\n",
    "\n",
    "def final_output(state: GraphState):\n",
    "    print(\"--- Node: Final Output ---\")\n",
    "    print(f\"    Final Text:\\n{state.final_text}\")\n",
    "    return state\n",
    "\n",
    "# --- 3. Define the Graph Structure for Visualization ---\n",
    "graph = nx.DiGraph()\n",
    "\n",
    "# Add Nodes (representing the LangGraph nodes)\n",
    "graph.add_node(\"start\", label=\"Start\", shape=\"ellipse\")\n",
    "graph.add_node(\"intro_node\", label=\"Generate Intro\", shape=\"box\")\n",
    "graph.add_node(\"check_skip\", label=\"Check Skip\", shape=\"diamond\")\n",
    "graph.add_node(\"conclusion_node\", label=\"Generate Conclusion\", shape=\"box\")\n",
    "graph.add_node(\"combine_node\", label=\"Combine Text\", shape=\"box\")\n",
    "graph.add_node(\"output_node\", label=\"Final Output\", shape=\"box\")\n",
    "graph.add_node(\"end\", label=\"End\", shape=\"double_circle\")\n",
    "\n",
    "# Add Edges (representing the flow)\n",
    "graph.add_edge(\"start\", \"intro_node\")\n",
    "graph.add_edge(\"intro_node\", \"check_skip\")\n",
    "\n",
    "# Conditional Edges\n",
    "graph.add_edge(\"check_skip\", \"conclusion_node\", label=\"continue\")\n",
    "graph.add_edge(\"check_skip\", \"combine_node\", label=\"skip\") # If skipping conclusion\n",
    "\n",
    "graph.add_edge(\"conclusion_node\", \"combine_node\")\n",
    "graph.add_edge(\"combine_node\", \"output_node\")\n",
    "graph.add_edge(\"output_node\", \"end\")\n",
    "\n",
    "# --- 4. Visualize the Graph ---\n",
    "pos = nx.spring_layout(graph, seed=42)  # You can try other layouts like 'planar' or 'dot'\n",
    "\n",
    "node_labels = nx.get_node_attributes(graph, 'label')\n",
    "edge_labels = nx.get_edge_attributes(graph, 'label')\n",
    "\n",
    "plt.figure(figsize=(10, 8))\n",
    "nx.draw(graph, pos, with_labels=True, labels=node_labels, node_size=3000, node_color=\"lightblue\", font_size=10, font_weight=\"bold\", arrowsize=20)\n",
    "nx.draw_networkx_edge_labels(graph, pos, edge_labels=edge_labels, font_size=8, label_pos=0.3) # Adjust label_pos for better placement\n",
    "\n",
    "plt.title(\"LangGraph Workflow with Conditional Edge and State (Visualization)\")\n",
    "plt.show()\n",
    "\n",
    "# --- 5. Simulate a Run (to see the state flow conceptually) ---\n",
    "print(\"\\n--- Simulating Graph Run ---\")\n",
    "initial_state = GraphState(topic=\"A very long and interesting topic\")\n",
    "print(f\"Initial State:\\n{initial_state}\\n\")\n",
    "\n",
    "state_after_intro = generate_intro(initial_state)\n",
    "print(f\"\\nState after intro_node:\\n{state_after_intro}\\n\")\n",
    "\n",
    "skip_decision = check_skip_condition(state_after_intro)\n",
    "print(f\"\\nSkip Decision: {skip_decision}\\n\")\n",
    "\n",
    "state_after_conclusion = generate_conclusion(state_after_intro)\n",
    "print(f\"\\nState after conclusion_node:\\n{state_after_conclusion}\\n\")\n",
    "\n",
    "final_state = combine_text(state_after_conclusion)\n",
    "print(f\"\\nFinal State after combine_node:\\n{final_state}\\n\")\n",
    "\n",
    "final_output(final_state)"
   ]
  },
  {
   "cell_type": "markdown",
   "id": "4a97cfcc",
   "metadata": {},
   "source": [
    "Explanation of Changes and How it Visualizes the Concepts:\n",
    "\n",
    "\n",
    "GraphState Class (for Visualization):\n",
    "\n",
    "\n",
    "We create a simple Python class GraphState to represent the data that flows through the graph. This is a simplified version of your TypedDict for easier manipulation in the visualization.\n",
    "\n",
    "It includes attributes like topic, introduction, conclusion, final_text, and a new attribute should_skip_conclusion to demonstrate a conditional path.\n",
    "\n",
    "The __str__ method is added for easy printing of the state.\n",
    "Dummy Nodes (Functions):\n",
    "\n",
    "\n",
    "The generate_intro, check_skip_condition, generate_conclusion, combine_text, and final_output functions now take and return instances of our GraphState class.\n",
    "\n",
    "The check_skip_condition node introduces the conditional logic: it decides whether to skip the conclusion_node based on the length of the topic and updates the should_skip_conclusion attribute in the GraphState.\n",
    "\n",
    "Graph Structure for Visualization (networkx):\n",
    "\n",
    "We create a networkx.DiGraph() as before.\n",
    "\n",
    "Nodes: We add nodes representing each step in the workflow, including a start and end node for better visual flow. We also add a check_skip node to explicitly represent the conditional check.\n",
    "\n",
    "Edges:\n",
    "\n",
    "We add standard sequential edges.\n",
    "\n",
    "Conditional Edges: The key change is how we represent the conditional flow from the check_skip node. We add two edges originating from check_skip:\n",
    "\n",
    "One going to conclusion_node with the label \"continue\".\n",
    "\n",
    "Another going directly to combine_node with the label \"skip\".\n",
    "\n",
    "The labels on these edges visually indicate the condition that determines which path is taken.\n",
    "\n",
    "Visualization:\n",
    "\n",
    "We use nx.spring_layout (or you can experiment with other layouts) to position the nodes.\n",
    "nx.draw is used to draw the nodes and edges.\n",
    "\n",
    "nx.draw_networkx_edge_labels is crucial here. It allows us to display the labels we assigned to the conditional edges (\"continue\" and \"skip\"), making the conditional flow visually clear.\n",
    "\n",
    "Node shapes are added for better distinction (ellipse for start/end, box for processing, diamond for decision).\n",
    "\n",
    "Simulate a Run:\n",
    "\n",
    "\n",
    "We include a section to simulate the execution of the (conceptual) LangGraph. We create an initial GraphState, pass it through the dummy nodes, and print the state at each step. This helps you understand how the GraphState might evolve as it moves through the graph and how the conditional logic in check_skip_condition would influence the flow.\n",
    "\n",
    "\n",
    "How this visualization represents the concepts:\n",
    "\n",
    "\n",
    "- Nodes: Each node in the networkx graph corresponds to a processing step or a decision point in your LangGraph.\n",
    "- Edges: The directed edges show the possible flow of the GraphState from one node to the next.\n",
    "- Graph State: While the visualization itself doesn't show the data within the GraphState, the simulation part demonstrates how the GraphState is passed between nodes and how its attributes are modified.\n",
    "- Conditional Edges: The two edges originating from the check_skip node, with their respective labels (\"continue\" and \"skip\"), clearly illustrate the conditional branching in the workflow. The check_skip node acts as a router, deciding which path the process will take based on the state.\n",
    "\n",
    "When you run this code, you'll see a visual representation of your LangGraph workflow, including the conditional path, making the structure and flow much easier to understand. The simulation further clarifies how the GraphState is involved."
   ]
  }
 ],
 "metadata": {
  "kernelspec": {
   "display_name": "Python 3 (ipykernel)",
   "language": "python",
   "name": "python3"
  },
  "language_info": {
   "codemirror_mode": {
    "name": "ipython",
    "version": 3
   },
   "file_extension": ".py",
   "mimetype": "text/x-python",
   "name": "python",
   "nbconvert_exporter": "python",
   "pygments_lexer": "ipython3",
   "version": "3.9.16"
  }
 },
 "nbformat": 4,
 "nbformat_minor": 5
}
